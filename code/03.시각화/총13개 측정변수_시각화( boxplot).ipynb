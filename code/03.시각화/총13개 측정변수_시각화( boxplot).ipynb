{
 "cells": [
  {
   "cell_type": "code",
   "execution_count": 55,
   "metadata": {},
   "outputs": [],
   "source": [
    "import pandas as pd\n",
    "import matplotlib.pyplot as plt"
   ]
  },
  {
   "cell_type": "code",
   "execution_count": 56,
   "metadata": {},
   "outputs": [
    {
     "data": {
      "text/html": [
       "<div>\n",
       "<style scoped>\n",
       "    .dataframe tbody tr th:only-of-type {\n",
       "        vertical-align: middle;\n",
       "    }\n",
       "\n",
       "    .dataframe tbody tr th {\n",
       "        vertical-align: top;\n",
       "    }\n",
       "\n",
       "    .dataframe thead th {\n",
       "        text-align: right;\n",
       "    }\n",
       "</style>\n",
       "<table border=\"1\" class=\"dataframe\">\n",
       "  <thead>\n",
       "    <tr style=\"text-align: right;\">\n",
       "      <th></th>\n",
       "      <th>시군구명</th>\n",
       "      <th>동명</th>\n",
       "      <th>면적(Km2)</th>\n",
       "      <th>총 거주자수\\n(주민등록 기준)</th>\n",
       "      <th>무료놀이터수</th>\n",
       "      <th>지가변동률</th>\n",
       "      <th>대형마트 갯수</th>\n",
       "      <th>급여총액2</th>\n",
       "      <th>급여총액</th>\n",
       "      <th>재정자립도</th>\n",
       "      <th>어린이집+유치원 개수</th>\n",
       "      <th>국공립 원생수</th>\n",
       "      <th>초중고 개수</th>\n",
       "      <th>교습소+학원개수</th>\n",
       "      <th>병원 갯수</th>\n",
       "      <th>공원수</th>\n",
       "      <th>공원면적(km2)</th>\n",
       "      <th>5대 범죄 발생건수</th>\n",
       "      <th>유흥업소 수</th>\n",
       "      <th>cctv</th>\n",
       "    </tr>\n",
       "  </thead>\n",
       "  <tbody>\n",
       "    <tr>\n",
       "      <th>0</th>\n",
       "      <td>강남구</td>\n",
       "      <td>개포동</td>\n",
       "      <td>5.27</td>\n",
       "      <td>50279</td>\n",
       "      <td>54</td>\n",
       "      <td>0.552</td>\n",
       "      <td>0</td>\n",
       "      <td>70996785</td>\n",
       "      <td>7100</td>\n",
       "      <td>54</td>\n",
       "      <td>26</td>\n",
       "      <td>458</td>\n",
       "      <td>13</td>\n",
       "      <td>166</td>\n",
       "      <td>70</td>\n",
       "      <td>155</td>\n",
       "      <td>6.59</td>\n",
       "      <td>8539</td>\n",
       "      <td>580.7</td>\n",
       "      <td>6191</td>\n",
       "    </tr>\n",
       "    <tr>\n",
       "      <th>1</th>\n",
       "      <td>강남구</td>\n",
       "      <td>논현동</td>\n",
       "      <td>2.72</td>\n",
       "      <td>43136</td>\n",
       "      <td>37</td>\n",
       "      <td>0.552</td>\n",
       "      <td>2</td>\n",
       "      <td>70996785</td>\n",
       "      <td>7100</td>\n",
       "      <td>54</td>\n",
       "      <td>11</td>\n",
       "      <td>337</td>\n",
       "      <td>3</td>\n",
       "      <td>181</td>\n",
       "      <td>365</td>\n",
       "      <td>155</td>\n",
       "      <td>6.59</td>\n",
       "      <td>8539</td>\n",
       "      <td>580.7</td>\n",
       "      <td>6191</td>\n",
       "    </tr>\n",
       "    <tr>\n",
       "      <th>2</th>\n",
       "      <td>강남구</td>\n",
       "      <td>대치동</td>\n",
       "      <td>3.52</td>\n",
       "      <td>81705</td>\n",
       "      <td>69</td>\n",
       "      <td>0.552</td>\n",
       "      <td>1</td>\n",
       "      <td>70996785</td>\n",
       "      <td>7100</td>\n",
       "      <td>54</td>\n",
       "      <td>29</td>\n",
       "      <td>679</td>\n",
       "      <td>10</td>\n",
       "      <td>1429</td>\n",
       "      <td>284</td>\n",
       "      <td>155</td>\n",
       "      <td>6.59</td>\n",
       "      <td>8539</td>\n",
       "      <td>580.7</td>\n",
       "      <td>6191</td>\n",
       "    </tr>\n",
       "    <tr>\n",
       "      <th>3</th>\n",
       "      <td>강남구</td>\n",
       "      <td>도곡동</td>\n",
       "      <td>2.04</td>\n",
       "      <td>55154</td>\n",
       "      <td>55</td>\n",
       "      <td>0.552</td>\n",
       "      <td>0</td>\n",
       "      <td>70996785</td>\n",
       "      <td>7100</td>\n",
       "      <td>54</td>\n",
       "      <td>14</td>\n",
       "      <td>392</td>\n",
       "      <td>9</td>\n",
       "      <td>161</td>\n",
       "      <td>143</td>\n",
       "      <td>155</td>\n",
       "      <td>6.59</td>\n",
       "      <td>8539</td>\n",
       "      <td>580.7</td>\n",
       "      <td>6191</td>\n",
       "    </tr>\n",
       "    <tr>\n",
       "      <th>4</th>\n",
       "      <td>강남구</td>\n",
       "      <td>삼성동</td>\n",
       "      <td>3.18</td>\n",
       "      <td>42452</td>\n",
       "      <td>54</td>\n",
       "      <td>0.552</td>\n",
       "      <td>4</td>\n",
       "      <td>70996785</td>\n",
       "      <td>7100</td>\n",
       "      <td>54</td>\n",
       "      <td>22</td>\n",
       "      <td>349</td>\n",
       "      <td>5</td>\n",
       "      <td>131</td>\n",
       "      <td>176</td>\n",
       "      <td>155</td>\n",
       "      <td>6.59</td>\n",
       "      <td>8539</td>\n",
       "      <td>580.7</td>\n",
       "      <td>6191</td>\n",
       "    </tr>\n",
       "  </tbody>\n",
       "</table>\n",
       "</div>"
      ],
      "text/plain": [
       "  시군구명   동명  면적(Km2)  총 거주자수\\n(주민등록 기준)  무료놀이터수  지가변동률  대형마트 갯수     급여총액2  \\\n",
       "0  강남구  개포동     5.27              50279      54  0.552        0  70996785   \n",
       "1  강남구  논현동     2.72              43136      37  0.552        2  70996785   \n",
       "2  강남구  대치동     3.52              81705      69  0.552        1  70996785   \n",
       "3  강남구  도곡동     2.04              55154      55  0.552        0  70996785   \n",
       "4  강남구  삼성동     3.18              42452      54  0.552        4  70996785   \n",
       "\n",
       "   급여총액  재정자립도  어린이집+유치원 개수  국공립 원생수  초중고 개수  교습소+학원개수  병원 갯수  공원수  공원면적(km2)  \\\n",
       "0  7100     54           26      458      13       166     70  155       6.59   \n",
       "1  7100     54           11      337       3       181    365  155       6.59   \n",
       "2  7100     54           29      679      10      1429    284  155       6.59   \n",
       "3  7100     54           14      392       9       161    143  155       6.59   \n",
       "4  7100     54           22      349       5       131    176  155       6.59   \n",
       "\n",
       "   5대 범죄 발생건수  유흥업소 수  cctv  \n",
       "0        8539   580.7  6191  \n",
       "1        8539   580.7  6191  \n",
       "2        8539   580.7  6191  \n",
       "3        8539   580.7  6191  \n",
       "4        8539   580.7  6191  "
      ]
     },
     "execution_count": 56,
     "metadata": {},
     "output_type": "execute_result"
    }
   ],
   "source": [
    "df = pd.read_excel(\"./점수표 .xlsx\", sheet_name='결과값')\n",
    "\n",
    "df.head()"
   ]
  },
  {
   "cell_type": "code",
   "execution_count": 57,
   "metadata": {},
   "outputs": [
    {
     "data": {
      "text/plain": [
       "Index(['시군구명', '동명', '면적(Km2)', '총 거주자수\\n(주민등록 기준)', '무료놀이터수', '지가변동률',\n",
       "       '대형마트 갯수', '급여총액2', '급여총액', '재정자립도', '어린이집+유치원 개수', '국공립 원생수', '초중고 개수',\n",
       "       '교습소+학원개수', '병원 갯수', '공원수', '공원면적(km2)', '5대 범죄 발생건수', '유흥업소 수',\n",
       "       'cctv'],\n",
       "      dtype='object')"
      ]
     },
     "execution_count": 57,
     "metadata": {},
     "output_type": "execute_result"
    }
   ],
   "source": [
    "df.columns"
   ]
  },
  {
   "cell_type": "code",
   "execution_count": 63,
   "metadata": {
    "scrolled": true
   },
   "outputs": [
    {
     "data": {
      "text/html": [
       "<div>\n",
       "<style scoped>\n",
       "    .dataframe tbody tr th:only-of-type {\n",
       "        vertical-align: middle;\n",
       "    }\n",
       "\n",
       "    .dataframe tbody tr th {\n",
       "        vertical-align: top;\n",
       "    }\n",
       "\n",
       "    .dataframe thead th {\n",
       "        text-align: right;\n",
       "    }\n",
       "</style>\n",
       "<table border=\"1\" class=\"dataframe\">\n",
       "  <thead>\n",
       "    <tr style=\"text-align: right;\">\n",
       "      <th></th>\n",
       "      <th>무료놀이터수</th>\n",
       "      <th>지가변동률</th>\n",
       "      <th>대형마트 갯수</th>\n",
       "      <th>급여총액</th>\n",
       "      <th>재정자립도</th>\n",
       "      <th>어린이집+유치원 개수</th>\n",
       "      <th>국공립 원생수</th>\n",
       "      <th>초중고 개수</th>\n",
       "      <th>교습소+학원개수</th>\n",
       "      <th>병원 갯수</th>\n",
       "      <th>공원수</th>\n",
       "      <th>공원면적(km2)</th>\n",
       "      <th>5대 범죄 발생건수</th>\n",
       "      <th>유흥업소 수</th>\n",
       "      <th>cctv</th>\n",
       "    </tr>\n",
       "  </thead>\n",
       "  <tbody>\n",
       "    <tr>\n",
       "      <th>count</th>\n",
       "      <td>233.000000</td>\n",
       "      <td>233.000000</td>\n",
       "      <td>233.000000</td>\n",
       "      <td>233.000000</td>\n",
       "      <td>233.000000</td>\n",
       "      <td>233.000000</td>\n",
       "      <td>233.000000</td>\n",
       "      <td>233.000000</td>\n",
       "      <td>233.000000</td>\n",
       "      <td>233.000000</td>\n",
       "      <td>233.000000</td>\n",
       "      <td>233.000000</td>\n",
       "      <td>233.000000</td>\n",
       "      <td>233.000000</td>\n",
       "      <td>233.000000</td>\n",
       "    </tr>\n",
       "    <tr>\n",
       "      <th>mean</th>\n",
       "      <td>41.927039</td>\n",
       "      <td>0.399528</td>\n",
       "      <td>1.592275</td>\n",
       "      <td>4344.218884</td>\n",
       "      <td>30.519313</td>\n",
       "      <td>26.274678</td>\n",
       "      <td>425.630901</td>\n",
       "      <td>5.540773</td>\n",
       "      <td>103.510730</td>\n",
       "      <td>76.253219</td>\n",
       "      <td>117.030043</td>\n",
       "      <td>6.632275</td>\n",
       "      <td>5210.068670</td>\n",
       "      <td>228.675536</td>\n",
       "      <td>2900.613734</td>\n",
       "    </tr>\n",
       "    <tr>\n",
       "      <th>std</th>\n",
       "      <td>38.646260</td>\n",
       "      <td>0.082723</td>\n",
       "      <td>2.177734</td>\n",
       "      <td>1136.136257</td>\n",
       "      <td>12.686227</td>\n",
       "      <td>25.100180</td>\n",
       "      <td>368.438529</td>\n",
       "      <td>4.849397</td>\n",
       "      <td>148.293079</td>\n",
       "      <td>78.062366</td>\n",
       "      <td>32.283282</td>\n",
       "      <td>4.298047</td>\n",
       "      <td>1272.079371</td>\n",
       "      <td>130.679996</td>\n",
       "      <td>1151.955944</td>\n",
       "    </tr>\n",
       "    <tr>\n",
       "      <th>min</th>\n",
       "      <td>1.000000</td>\n",
       "      <td>0.256000</td>\n",
       "      <td>0.000000</td>\n",
       "      <td>2920.000000</td>\n",
       "      <td>15.000000</td>\n",
       "      <td>1.000000</td>\n",
       "      <td>23.000000</td>\n",
       "      <td>0.000000</td>\n",
       "      <td>3.000000</td>\n",
       "      <td>1.000000</td>\n",
       "      <td>55.000000</td>\n",
       "      <td>1.280000</td>\n",
       "      <td>2742.000000</td>\n",
       "      <td>75.000000</td>\n",
       "      <td>951.000000</td>\n",
       "    </tr>\n",
       "    <tr>\n",
       "      <th>25%</th>\n",
       "      <td>14.000000</td>\n",
       "      <td>0.347000</td>\n",
       "      <td>0.000000</td>\n",
       "      <td>3467.000000</td>\n",
       "      <td>20.000000</td>\n",
       "      <td>9.000000</td>\n",
       "      <td>163.000000</td>\n",
       "      <td>2.000000</td>\n",
       "      <td>26.000000</td>\n",
       "      <td>27.000000</td>\n",
       "      <td>95.000000</td>\n",
       "      <td>3.160000</td>\n",
       "      <td>4172.000000</td>\n",
       "      <td>130.300000</td>\n",
       "      <td>2177.000000</td>\n",
       "    </tr>\n",
       "    <tr>\n",
       "      <th>50%</th>\n",
       "      <td>32.000000</td>\n",
       "      <td>0.406000</td>\n",
       "      <td>1.000000</td>\n",
       "      <td>4072.000000</td>\n",
       "      <td>26.000000</td>\n",
       "      <td>19.000000</td>\n",
       "      <td>332.000000</td>\n",
       "      <td>4.000000</td>\n",
       "      <td>64.000000</td>\n",
       "      <td>53.000000</td>\n",
       "      <td>110.000000</td>\n",
       "      <td>4.640000</td>\n",
       "      <td>4995.000000</td>\n",
       "      <td>201.000000</td>\n",
       "      <td>2402.000000</td>\n",
       "    </tr>\n",
       "    <tr>\n",
       "      <th>75%</th>\n",
       "      <td>55.000000</td>\n",
       "      <td>0.436000</td>\n",
       "      <td>2.000000</td>\n",
       "      <td>4661.000000</td>\n",
       "      <td>38.000000</td>\n",
       "      <td>35.000000</td>\n",
       "      <td>529.000000</td>\n",
       "      <td>7.000000</td>\n",
       "      <td>129.000000</td>\n",
       "      <td>95.000000</td>\n",
       "      <td>142.000000</td>\n",
       "      <td>10.980000</td>\n",
       "      <td>5833.000000</td>\n",
       "      <td>317.700000</td>\n",
       "      <td>3538.000000</td>\n",
       "    </tr>\n",
       "    <tr>\n",
       "      <th>max</th>\n",
       "      <td>260.000000</td>\n",
       "      <td>0.558000</td>\n",
       "      <td>13.000000</td>\n",
       "      <td>7100.000000</td>\n",
       "      <td>55.000000</td>\n",
       "      <td>185.000000</td>\n",
       "      <td>2039.000000</td>\n",
       "      <td>32.000000</td>\n",
       "      <td>1429.000000</td>\n",
       "      <td>553.000000</td>\n",
       "      <td>181.000000</td>\n",
       "      <td>16.080000</td>\n",
       "      <td>8539.000000</td>\n",
       "      <td>580.700000</td>\n",
       "      <td>6191.000000</td>\n",
       "    </tr>\n",
       "  </tbody>\n",
       "</table>\n",
       "</div>"
      ],
      "text/plain": [
       "           무료놀이터수       지가변동률     대형마트 갯수         급여총액       재정자립도  \\\n",
       "count  233.000000  233.000000  233.000000   233.000000  233.000000   \n",
       "mean    41.927039    0.399528    1.592275  4344.218884   30.519313   \n",
       "std     38.646260    0.082723    2.177734  1136.136257   12.686227   \n",
       "min      1.000000    0.256000    0.000000  2920.000000   15.000000   \n",
       "25%     14.000000    0.347000    0.000000  3467.000000   20.000000   \n",
       "50%     32.000000    0.406000    1.000000  4072.000000   26.000000   \n",
       "75%     55.000000    0.436000    2.000000  4661.000000   38.000000   \n",
       "max    260.000000    0.558000   13.000000  7100.000000   55.000000   \n",
       "\n",
       "       어린이집+유치원 개수      국공립 원생수      초중고 개수     교습소+학원개수       병원 갯수  \\\n",
       "count   233.000000   233.000000  233.000000   233.000000  233.000000   \n",
       "mean     26.274678   425.630901    5.540773   103.510730   76.253219   \n",
       "std      25.100180   368.438529    4.849397   148.293079   78.062366   \n",
       "min       1.000000    23.000000    0.000000     3.000000    1.000000   \n",
       "25%       9.000000   163.000000    2.000000    26.000000   27.000000   \n",
       "50%      19.000000   332.000000    4.000000    64.000000   53.000000   \n",
       "75%      35.000000   529.000000    7.000000   129.000000   95.000000   \n",
       "max     185.000000  2039.000000   32.000000  1429.000000  553.000000   \n",
       "\n",
       "              공원수   공원면적(km2)   5대 범죄 발생건수      유흥업소 수         cctv  \n",
       "count  233.000000  233.000000   233.000000  233.000000   233.000000  \n",
       "mean   117.030043    6.632275  5210.068670  228.675536  2900.613734  \n",
       "std     32.283282    4.298047  1272.079371  130.679996  1151.955944  \n",
       "min     55.000000    1.280000  2742.000000   75.000000   951.000000  \n",
       "25%     95.000000    3.160000  4172.000000  130.300000  2177.000000  \n",
       "50%    110.000000    4.640000  4995.000000  201.000000  2402.000000  \n",
       "75%    142.000000   10.980000  5833.000000  317.700000  3538.000000  \n",
       "max    181.000000   16.080000  8539.000000  580.700000  6191.000000  "
      ]
     },
     "execution_count": 63,
     "metadata": {},
     "output_type": "execute_result"
    }
   ],
   "source": [
    "df[['무료놀이터수', '지가변동률',\n",
    "       '대형마트 갯수', '급여총액', '재정자립도', '어린이집+유치원 개수', '국공립 원생수', '초중고 개수',\n",
    "       '교습소+학원개수', '병원 갯수', '공원수', '공원면적(km2)', '5대 범죄 발생건수', '유흥업소 수','cctv']].describe()"
   ]
  },
  {
   "cell_type": "code",
   "execution_count": null,
   "metadata": {},
   "outputs": [],
   "source": [
    "plt.figure(figsize=(10,7))\n",
    "sns.boxplot(data=df[[]])\n",
    "plt.xticks(fontsize='large')\n",
    "plt.yticks(fontsize='large')"
   ]
  },
  {
   "cell_type": "code",
   "execution_count": 68,
   "metadata": {},
   "outputs": [
    {
     "data": {
      "text/plain": [
       "<AxesSubplot:>"
      ]
     },
     "execution_count": 68,
     "metadata": {},
     "output_type": "execute_result"
    },
    {
     "data": {
      "image/png": "[encoded data removed]",
      "text/plain": [
       "<Figure size 1440x504 with 1 Axes>"
      ]
     },
     "metadata": {},
     "output_type": "display_data"
    }
   ],
   "source": [
    "plt.figure(figsize=(20,7))\n",
    "sns.boxplot(data=df[['무료놀이터수', '지가변동률',\n",
    "       '대형마트 갯수', '재정자립도', '어린이집+유치원 개수', '국공립 원생수', '초중고 개수',\n",
    "       '교습소+학원개수', '병원 갯수', '공원수', '공원면적(km2)', '5대 범죄 발생건수', '유흥업소 수',\n",
    "       'cctv']])"
   ]
  },
  {
   "cell_type": "code",
   "execution_count": 50,
   "metadata": {},
   "outputs": [
    {
     "data": {
      "text/plain": [
       "(array([-250.,    0.,  250.,  500.,  750., 1000., 1250., 1500., 1750.,\n",
       "        2000., 2250.]),\n",
       " [Text(0, 0, ''),\n",
       "  Text(0, 0, ''),\n",
       "  Text(0, 0, ''),\n",
       "  Text(0, 0, ''),\n",
       "  Text(0, 0, ''),\n",
       "  Text(0, 0, ''),\n",
       "  Text(0, 0, ''),\n",
       "  Text(0, 0, ''),\n",
       "  Text(0, 0, ''),\n",
       "  Text(0, 0, ''),\n",
       "  Text(0, 0, '')])"
      ]
     },
     "execution_count": 50,
     "metadata": {},
     "output_type": "execute_result"
    },
    {
     "data": {
      "image/png": "[encoded data removed]",
      "text/plain": [
       "<Figure size 720x504 with 1 Axes>"
      ]
     },
     "metadata": {},
     "output_type": "display_data"
    }
   ],
   "source": [
    "plt.figure(figsize=(10,7))\n",
    "sns.boxplot(data=df[['국공립 원생수', '유흥업소 수']])\n",
    "plt.xticks(fontsize='large')\n",
    "plt.yticks(fontsize='large')"
   ]
  },
  {
   "cell_type": "code",
   "execution_count": 51,
   "metadata": {},
   "outputs": [
    {
     "data": {
      "text/plain": [
       "(array([-200.,    0.,  200.,  400.,  600.,  800., 1000., 1200., 1400.,\n",
       "        1600.]),\n",
       " [Text(0, 0, ''),\n",
       "  Text(0, 0, ''),\n",
       "  Text(0, 0, ''),\n",
       "  Text(0, 0, ''),\n",
       "  Text(0, 0, ''),\n",
       "  Text(0, 0, ''),\n",
       "  Text(0, 0, ''),\n",
       "  Text(0, 0, ''),\n",
       "  Text(0, 0, ''),\n",
       "  Text(0, 0, '')])"
      ]
     },
     "execution_count": 51,
     "metadata": {},
     "output_type": "execute_result"
    },
    {
     "data": {
      "image/png": "[encoded data removed]",
      "text/plain": [
       "<Figure size 720x504 with 1 Axes>"
      ]
     },
     "metadata": {},
     "output_type": "display_data"
    }
   ],
   "source": [
    "plt.figure(figsize=(10,7))\n",
    "sns.boxplot(data=df[['교습소+학원개수', '병원 갯수','공원수']])\n",
    "plt.xticks(fontsize='large')\n",
    "plt.yticks(fontsize='large')"
   ]
  },
  {
   "cell_type": "code",
   "execution_count": 52,
   "metadata": {},
   "outputs": [
    {
     "data": {
      "text/plain": [
       "(array([-50.,   0.,  50., 100., 150., 200., 250., 300.]),\n",
       " [Text(0, 0, ''),\n",
       "  Text(0, 0, ''),\n",
       "  Text(0, 0, ''),\n",
       "  Text(0, 0, ''),\n",
       "  Text(0, 0, ''),\n",
       "  Text(0, 0, ''),\n",
       "  Text(0, 0, ''),\n",
       "  Text(0, 0, '')])"
      ]
     },
     "execution_count": 52,
     "metadata": {},
     "output_type": "execute_result"
    },
    {
     "data": {
      "image/png": "[encoded data removed]",
      "text/plain": [
       "<Figure size 720x504 with 1 Axes>"
      ]
     },
     "metadata": {},
     "output_type": "display_data"
    }
   ],
   "source": [
    "plt.figure(figsize=(10,7))\n",
    "sns.boxplot(data=df[['무료놀이터수', '재정자립도', '어린이집+유치원 개수']])\n",
    "plt.xticks(fontsize='large')\n",
    "plt.yticks(fontsize='large')"
   ]
  },
  {
   "cell_type": "code",
   "execution_count": 60,
   "metadata": {},
   "outputs": [
    {
     "data": {
      "text/plain": [
       "(array([-5.,  0.,  5., 10., 15., 20., 25., 30., 35.]),\n",
       " [Text(0, 0, ''),\n",
       "  Text(0, 0, ''),\n",
       "  Text(0, 0, ''),\n",
       "  Text(0, 0, ''),\n",
       "  Text(0, 0, ''),\n",
       "  Text(0, 0, ''),\n",
       "  Text(0, 0, ''),\n",
       "  Text(0, 0, ''),\n",
       "  Text(0, 0, '')])"
      ]
     },
     "execution_count": 60,
     "metadata": {},
     "output_type": "execute_result"
    },
    {
     "data": {
      "image/png": "[encoded data removed]",
      "text/plain": [
       "<Figure size 720x504 with 1 Axes>"
      ]
     },
     "metadata": {},
     "output_type": "display_data"
    }
   ],
   "source": [
    "plt.figure(figsize=(10,7))\n",
    "sns.boxplot(data=df[['대형마트 갯수','공원면적(km2)','초중고 개수']])\n",
    "plt.xticks(fontsize='large')\n",
    "plt.yticks(fontsize='large')"
   ]
  },
  {
   "cell_type": "code",
   "execution_count": 61,
   "metadata": {},
   "outputs": [
    {
     "data": {
      "text/plain": [
       "(array([0.2 , 0.25, 0.3 , 0.35, 0.4 , 0.45, 0.5 , 0.55, 0.6 ]),\n",
       " [Text(0, 0, ''),\n",
       "  Text(0, 0, ''),\n",
       "  Text(0, 0, ''),\n",
       "  Text(0, 0, ''),\n",
       "  Text(0, 0, ''),\n",
       "  Text(0, 0, ''),\n",
       "  Text(0, 0, ''),\n",
       "  Text(0, 0, ''),\n",
       "  Text(0, 0, '')])"
      ]
     },
     "execution_count": 61,
     "metadata": {},
     "output_type": "execute_result"
    },
    {
     "data": {
      "image/png": "[encoded data removed]",
      "text/plain": [
       "<Figure size 432x288 with 1 Axes>"
      ]
     },
     "metadata": {},
     "output_type": "display_data"
    }
   ],
   "source": [
    "sns.boxplot(data=df[['지가변동률']])\n",
    "plt.xticks(fontsize='large')\n",
    "plt.yticks(fontsize='large')"
   ]
  }
 ],
 "metadata": {
  "kernelspec": {
   "display_name": "Python 3",
   "language": "python",
   "name": "python3"
  },
  "language_info": {
   "codemirror_mode": {
    "name": "ipython",
    "version": 3
   },
   "file_extension": ".py",
   "mimetype": "text/x-python",
   "name": "python",
   "nbconvert_exporter": "python",
   "pygments_lexer": "ipython3",
   "version": "3.7.1"
  }
 },
 "nbformat": 4,
 "nbformat_minor": 4
}
