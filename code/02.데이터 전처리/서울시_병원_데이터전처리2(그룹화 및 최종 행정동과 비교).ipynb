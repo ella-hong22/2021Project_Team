{
 "cells": [
  {
   "cell_type": "code",
   "execution_count": 34,
   "metadata": {},
   "outputs": [
    {
     "name": "stdout",
     "output_type": "stream",
     "text": [
      "<class 'pandas.core.frame.DataFrame'>\n",
      "RangeIndex: 17767 entries, 0 to 17766\n",
      "Data columns (total 4 columns):\n",
      " #   Column  Non-Null Count  Dtype \n",
      "---  ------  --------------  ----- \n",
      " 0   name    17767 non-null  object\n",
      " 1   addr    17767 non-null  object\n",
      " 2   시군구명    17767 non-null  object\n",
      " 3   동명      17767 non-null  object\n",
      "dtypes: object(4)\n",
      "memory usage: 555.3+ KB\n"
     ]
    }
   ],
   "source": [
    "import pandas as pd\n",
    "final= pd.read_excel('G:/프로젝트/hospitalv9.xlsx')\n",
    "final.info()"
   ]
  },
  {
   "cell_type": "code",
   "execution_count": 35,
   "metadata": {},
   "outputs": [
    {
     "data": {
      "text/html": [
       "<div>\n",
       "<style scoped>\n",
       "    .dataframe tbody tr th:only-of-type {\n",
       "        vertical-align: middle;\n",
       "    }\n",
       "\n",
       "    .dataframe tbody tr th {\n",
       "        vertical-align: top;\n",
       "    }\n",
       "\n",
       "    .dataframe thead th {\n",
       "        text-align: right;\n",
       "    }\n",
       "</style>\n",
       "<table border=\"1\" class=\"dataframe\">\n",
       "  <thead>\n",
       "    <tr style=\"text-align: right;\">\n",
       "      <th></th>\n",
       "      <th>name</th>\n",
       "      <th>addr</th>\n",
       "      <th>시군구명</th>\n",
       "      <th>동명</th>\n",
       "    </tr>\n",
       "  </thead>\n",
       "  <tbody>\n",
       "    <tr>\n",
       "      <th>0</th>\n",
       "      <td>대한산업보건협회부설 서울의원</td>\n",
       "      <td>서울금천구디지털로9길56</td>\n",
       "      <td>금천구</td>\n",
       "      <td>가산동</td>\n",
       "    </tr>\n",
       "    <tr>\n",
       "      <th>1</th>\n",
       "      <td>하늘마음한의원 금천점</td>\n",
       "      <td>서울금천구벚꽃로286</td>\n",
       "      <td>금천구</td>\n",
       "      <td>가산동</td>\n",
       "    </tr>\n",
       "    <tr>\n",
       "      <th>2</th>\n",
       "      <td>서울아산다온재활의학과의원</td>\n",
       "      <td>서울금천구디지털로200</td>\n",
       "      <td>금천구</td>\n",
       "      <td>가산동</td>\n",
       "    </tr>\n",
       "    <tr>\n",
       "      <th>3</th>\n",
       "      <td>가산안과의원</td>\n",
       "      <td>서울금천구가산디지털1로168</td>\n",
       "      <td>금천구</td>\n",
       "      <td>가산동</td>\n",
       "    </tr>\n",
       "    <tr>\n",
       "      <th>4</th>\n",
       "      <td>홀인원의원</td>\n",
       "      <td>서울금천구벚꽃로298</td>\n",
       "      <td>금천구</td>\n",
       "      <td>가산동</td>\n",
       "    </tr>\n",
       "  </tbody>\n",
       "</table>\n",
       "</div>"
      ],
      "text/plain": [
       "              name             addr 시군구명    동명\n",
       "0  대한산업보건협회부설 서울의원    서울금천구디지털로9길56   금천구  가산동\n",
       "1      하늘마음한의원 금천점      서울금천구벚꽃로286   금천구  가산동\n",
       "2    서울아산다온재활의학과의원     서울금천구디지털로200   금천구  가산동\n",
       "3           가산안과의원  서울금천구가산디지털1로168   금천구  가산동\n",
       "4            홀인원의원      서울금천구벚꽃로298   금천구  가산동"
      ]
     },
     "execution_count": 35,
     "metadata": {},
     "output_type": "execute_result"
    }
   ],
   "source": [
    "final.head()"
   ]
  },
  {
   "cell_type": "code",
   "execution_count": 36,
   "metadata": {},
   "outputs": [
    {
     "data": {
      "text/plain": [
       "Index(['name', 'addr', '시군구명 ', '동명'], dtype='object')"
      ]
     },
     "execution_count": 36,
     "metadata": {},
     "output_type": "execute_result"
    }
   ],
   "source": [
    "final.columns"
   ]
  },
  {
   "cell_type": "code",
   "execution_count": 37,
   "metadata": {},
   "outputs": [],
   "source": [
    "hosp_group = final.groupby(['시군구명 ', '동명'])['name'].count()\n",
    "hospt_goup_df = pd.DataFrame(hosp_group)"
   ]
  },
  {
   "cell_type": "code",
   "execution_count": 38,
   "metadata": {},
   "outputs": [
    {
     "data": {
      "text/html": [
       "<div>\n",
       "<style scoped>\n",
       "    .dataframe tbody tr th:only-of-type {\n",
       "        vertical-align: middle;\n",
       "    }\n",
       "\n",
       "    .dataframe tbody tr th {\n",
       "        vertical-align: top;\n",
       "    }\n",
       "\n",
       "    .dataframe thead th {\n",
       "        text-align: right;\n",
       "    }\n",
       "</style>\n",
       "<table border=\"1\" class=\"dataframe\">\n",
       "  <thead>\n",
       "    <tr style=\"text-align: right;\">\n",
       "      <th></th>\n",
       "      <th>시군구명</th>\n",
       "      <th>동명</th>\n",
       "      <th>name</th>\n",
       "    </tr>\n",
       "  </thead>\n",
       "  <tbody>\n",
       "    <tr>\n",
       "      <th>0</th>\n",
       "      <td>강남구</td>\n",
       "      <td>개포동</td>\n",
       "      <td>70</td>\n",
       "    </tr>\n",
       "    <tr>\n",
       "      <th>1</th>\n",
       "      <td>강남구</td>\n",
       "      <td>논현동</td>\n",
       "      <td>365</td>\n",
       "    </tr>\n",
       "    <tr>\n",
       "      <th>2</th>\n",
       "      <td>강남구</td>\n",
       "      <td>대치동</td>\n",
       "      <td>284</td>\n",
       "    </tr>\n",
       "    <tr>\n",
       "      <th>3</th>\n",
       "      <td>강남구</td>\n",
       "      <td>도곡동</td>\n",
       "      <td>143</td>\n",
       "    </tr>\n",
       "    <tr>\n",
       "      <th>4</th>\n",
       "      <td>강남구</td>\n",
       "      <td>삼성동</td>\n",
       "      <td>176</td>\n",
       "    </tr>\n",
       "  </tbody>\n",
       "</table>\n",
       "</div>"
      ],
      "text/plain": [
       "  시군구명    동명  name\n",
       "0   강남구  개포동    70\n",
       "1   강남구  논현동   365\n",
       "2   강남구  대치동   284\n",
       "3   강남구  도곡동   143\n",
       "4   강남구  삼성동   176"
      ]
     },
     "execution_count": 38,
     "metadata": {},
     "output_type": "execute_result"
    }
   ],
   "source": [
    "hospt_goup_df = hospt_goup_df.reset_index()\n",
    "hospt_goup_df.head()"
   ]
  },
  {
   "cell_type": "code",
   "execution_count": 44,
   "metadata": {},
   "outputs": [
    {
     "name": "stdout",
     "output_type": "stream",
     "text": [
      "<class 'pandas.core.frame.DataFrame'>\n",
      "RangeIndex: 233 entries, 0 to 232\n",
      "Data columns (total 4 columns):\n",
      " #   Column  Non-Null Count  Dtype \n",
      "---  ------  --------------  ----- \n",
      " 0   시군구명    233 non-null    object\n",
      " 1   동명      233 non-null    object\n",
      " 2   name    233 non-null    int64 \n",
      " 3   행정구역    233 non-null    object\n",
      "dtypes: int64(1), object(3)\n",
      "memory usage: 7.4+ KB\n"
     ]
    }
   ],
   "source": [
    "hospt_goup_df.info()"
   ]
  },
  {
   "cell_type": "code",
   "execution_count": 40,
   "metadata": {},
   "outputs": [],
   "source": [
    "hospt_goup_df['행정구역'] = hospt_goup_df['시군구명 '] + hospt_goup_df['동명']"
   ]
  },
  {
   "cell_type": "code",
   "execution_count": 41,
   "metadata": {},
   "outputs": [
    {
     "name": "stdout",
     "output_type": "stream",
     "text": [
      "<class 'pandas.core.frame.DataFrame'>\n",
      "RangeIndex: 233 entries, 0 to 232\n",
      "Data columns (total 4 columns):\n",
      " #   Column   Non-Null Count  Dtype  \n",
      "---  ------   --------------  -----  \n",
      " 0   행정구역     233 non-null    object \n",
      " 1   시군구명     233 non-null    object \n",
      " 2   동명       233 non-null    object \n",
      " 3   면적(Km2)  233 non-null    float64\n",
      "dtypes: float64(1), object(3)\n",
      "memory usage: 7.4+ KB\n"
     ]
    }
   ],
   "source": [
    "#동명과 비교해보기 \n",
    "area = pd.read_csv('C:/Users/hongm/Downloads/seoul_면적(동별)_v2.2.csv')\n",
    "area.info()"
   ]
  },
  {
   "cell_type": "code",
   "execution_count": 42,
   "metadata": {},
   "outputs": [
    {
     "name": "stdout",
     "output_type": "stream",
     "text": [
      "<class 'pandas.core.frame.DataFrame'>\n",
      "Int64Index: 233 entries, 0 to 232\n",
      "Data columns (total 7 columns):\n",
      " #   Column   Non-Null Count  Dtype  \n",
      "---  ------   --------------  -----  \n",
      " 0   시군구명     233 non-null    object \n",
      " 1   동명_x     233 non-null    object \n",
      " 2   name     233 non-null    int64  \n",
      " 3   행정구역     233 non-null    object \n",
      " 4   시군구명     233 non-null    object \n",
      " 5   동명_y     233 non-null    object \n",
      " 6   면적(Km2)  233 non-null    float64\n",
      "dtypes: float64(1), int64(1), object(5)\n",
      "memory usage: 14.6+ KB\n"
     ]
    }
   ],
   "source": [
    "add = pd.merge(hospt_goup_df,area, how='left', on= '행정구역',)\n",
    "add.info()"
   ]
  },
  {
   "cell_type": "code",
   "execution_count": 43,
   "metadata": {},
   "outputs": [
    {
     "data": {
      "text/html": [
       "<div>\n",
       "<style scoped>\n",
       "    .dataframe tbody tr th:only-of-type {\n",
       "        vertical-align: middle;\n",
       "    }\n",
       "\n",
       "    .dataframe tbody tr th {\n",
       "        vertical-align: top;\n",
       "    }\n",
       "\n",
       "    .dataframe thead th {\n",
       "        text-align: right;\n",
       "    }\n",
       "</style>\n",
       "<table border=\"1\" class=\"dataframe\">\n",
       "  <thead>\n",
       "    <tr style=\"text-align: right;\">\n",
       "      <th></th>\n",
       "      <th>시군구명</th>\n",
       "      <th>동명_x</th>\n",
       "      <th>name</th>\n",
       "      <th>행정구역</th>\n",
       "      <th>시군구명</th>\n",
       "      <th>동명_y</th>\n",
       "      <th>면적(Km2)</th>\n",
       "    </tr>\n",
       "  </thead>\n",
       "  <tbody>\n",
       "  </tbody>\n",
       "</table>\n",
       "</div>"
      ],
      "text/plain": [
       "Empty DataFrame\n",
       "Columns: [시군구명 , 동명_x, name, 행정구역, 시군구명, 동명_y, 면적(Km2)]\n",
       "Index: []"
      ]
     },
     "execution_count": 43,
     "metadata": {},
     "output_type": "execute_result"
    }
   ],
   "source": [
    "add.loc[add.isnull()[\"동명_y\"]]"
   ]
  },
  {
   "cell_type": "code",
   "execution_count": 45,
   "metadata": {},
   "outputs": [],
   "source": [
    "#동명 233개 일치함으로, 최종 그룹한것 저장해주기 .\n",
    "\n",
    "hospt_goup_df.to_csv('G:/프로젝트/hospital_Group_v5.0.csv', index= False)"
   ]
  },
  {
   "cell_type": "code",
   "execution_count": 46,
   "metadata": {},
   "outputs": [],
   "source": [
    "hospt_goup_df.to_excel('G:/프로젝트/hospital_Group_v5.0.xlsx', index= False)"
   ]
  },
  {
   "cell_type": "code",
   "execution_count": null,
   "metadata": {},
   "outputs": [],
   "source": []
  }
 ],
 "metadata": {
  "kernelspec": {
   "display_name": "Python 3",
   "language": "python",
   "name": "python3"
  },
  "language_info": {
   "codemirror_mode": {
    "name": "ipython",
    "version": 3
   },
   "file_extension": ".py",
   "mimetype": "text/x-python",
   "name": "python",
   "nbconvert_exporter": "python",
   "pygments_lexer": "ipython3",
   "version": "3.7.1"
  }
 },
 "nbformat": 4,
 "nbformat_minor": 4
}
