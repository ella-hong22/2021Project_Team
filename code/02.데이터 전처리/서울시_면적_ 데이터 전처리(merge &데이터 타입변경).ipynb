{
 "cells": [
  {
   "cell_type": "code",
   "execution_count": 1,
   "metadata": {},
   "outputs": [],
   "source": [
    "import pandas as pd\n",
    "\n",
    "#파일 불러오기\n",
    "dong = pd.read_csv('D:/Ella/project/202012_주민등록인구및세대현황_서울특별시(동별).csv', encoding='EUC-KR' )\n",
    "dong.head(10)\n",
    "\n",
    "#행정동코드별 동만 나타내기 \n",
    "dong = dong[['행정동코드', '시군구별', '동별 ']]\n",
    "#결측치 처리\n",
    "dong_drop = dong.dropna()\n",
    "\n",
    " "
   ]
  },
  {
   "cell_type": "code",
   "execution_count": 2,
   "metadata": {},
   "outputs": [
    {
     "name": "stdout",
     "output_type": "stream",
     "text": [
      "<class 'pandas.core.frame.DataFrame'>\n",
      "Int64Index: 425 entries, 2 to 450\n",
      "Data columns (total 3 columns):\n",
      " #   Column  Non-Null Count  Dtype \n",
      "---  ------  --------------  ----- \n",
      " 0   행정동코드   425 non-null    int64 \n",
      " 1   시군구별    425 non-null    object\n",
      " 2   동별      425 non-null    object\n",
      "dtypes: int64(1), object(2)\n",
      "memory usage: 13.3+ KB\n"
     ]
    }
   ],
   "source": [
    "dong_drop.info()"
   ]
  },
  {
   "cell_type": "code",
   "execution_count": 21,
   "metadata": {},
   "outputs": [
    {
     "name": "stdout",
     "output_type": "stream",
     "text": [
      "<class 'pandas.core.frame.DataFrame'>\n",
      "RangeIndex: 1207 entries, 0 to 1206\n",
      "Data columns (total 8 columns):\n",
      " #   Column      Non-Null Count  Dtype  \n",
      "---  ------      --------------  -----  \n",
      " 0   YEAR        1207 non-null   int64  \n",
      " 1   행정동코드       1207 non-null   int64  \n",
      " 2   AREA        1207 non-null   float64\n",
      " 3   MAP_LEVEL   1207 non-null   int64  \n",
      " 4   행정명         1207 non-null   object \n",
      " 5   시군구         1204 non-null   object \n",
      " 6   행정동         1138 non-null   object \n",
      " 7   Unnamed: 7  220 non-null    object \n",
      "dtypes: float64(1), int64(3), object(4)\n",
      "memory usage: 75.6+ KB\n"
     ]
    }
   ],
   "source": [
    "land = pd.read_csv('D:/Ella/project/토지면적.csv ')\n",
    "land.info()"
   ]
  },
  {
   "cell_type": "code",
   "execution_count": 22,
   "metadata": {},
   "outputs": [
    {
     "name": "stdout",
     "output_type": "stream",
     "text": [
      "<class 'pandas.core.frame.DataFrame'>\n",
      "Int64Index: 450 entries, 0 to 449\n",
      "Data columns (total 8 columns):\n",
      " #   Column      Non-Null Count  Dtype  \n",
      "---  ------      --------------  -----  \n",
      " 0   YEAR        450 non-null    int64  \n",
      " 1   행정동코드       450 non-null    int64  \n",
      " 2   AREA        450 non-null    float64\n",
      " 3   MAP_LEVEL   450 non-null    int64  \n",
      " 4   행정명         450 non-null    object \n",
      " 5   시군구         449 non-null    object \n",
      " 6   행정동         424 non-null    object \n",
      " 7   Unnamed: 7  0 non-null      object \n",
      "dtypes: float64(1), int64(3), object(4)\n",
      "memory usage: 31.6+ KB\n"
     ]
    }
   ],
   "source": [
    "#행정명이 '서울별시인 행만 출력하기'\n",
    "\n",
    "land = land[land['행정명']=='서울특별시']\n",
    "land.info()"
   ]
  },
  {
   "cell_type": "code",
   "execution_count": 29,
   "metadata": {},
   "outputs": [
    {
     "data": {
      "text/html": [
       "<div>\n",
       "<style scoped>\n",
       "    .dataframe tbody tr th:only-of-type {\n",
       "        vertical-align: middle;\n",
       "    }\n",
       "\n",
       "    .dataframe tbody tr th {\n",
       "        vertical-align: top;\n",
       "    }\n",
       "\n",
       "    .dataframe thead th {\n",
       "        text-align: right;\n",
       "    }\n",
       "</style>\n",
       "<table border=\"1\" class=\"dataframe\">\n",
       "  <thead>\n",
       "    <tr style=\"text-align: right;\">\n",
       "      <th></th>\n",
       "      <th>YEAR</th>\n",
       "      <th>행정동코드</th>\n",
       "      <th>AREA</th>\n",
       "      <th>MAP_LEVEL</th>\n",
       "      <th>행정명</th>\n",
       "      <th>시군구</th>\n",
       "      <th>행정동</th>\n",
       "      <th>Unnamed: 7</th>\n",
       "    </tr>\n",
       "  </thead>\n",
       "  <tbody>\n",
       "    <tr>\n",
       "      <th>0</th>\n",
       "      <td>2019</td>\n",
       "      <td>1100000</td>\n",
       "      <td>605.24</td>\n",
       "      <td>1</td>\n",
       "      <td>서울특별시</td>\n",
       "      <td>NaN</td>\n",
       "      <td>NaN</td>\n",
       "      <td>NaN</td>\n",
       "    </tr>\n",
       "    <tr>\n",
       "      <th>1</th>\n",
       "      <td>2019</td>\n",
       "      <td>1101000</td>\n",
       "      <td>23.91</td>\n",
       "      <td>5</td>\n",
       "      <td>서울특별시</td>\n",
       "      <td>종로구</td>\n",
       "      <td>NaN</td>\n",
       "      <td>NaN</td>\n",
       "    </tr>\n",
       "    <tr>\n",
       "      <th>2</th>\n",
       "      <td>2019</td>\n",
       "      <td>1101072</td>\n",
       "      <td>2.57</td>\n",
       "      <td>4</td>\n",
       "      <td>서울특별시</td>\n",
       "      <td>종로구</td>\n",
       "      <td>청운효자동</td>\n",
       "      <td>NaN</td>\n",
       "    </tr>\n",
       "    <tr>\n",
       "      <th>3</th>\n",
       "      <td>2019</td>\n",
       "      <td>1101053</td>\n",
       "      <td>1.23</td>\n",
       "      <td>4</td>\n",
       "      <td>서울특별시</td>\n",
       "      <td>종로구</td>\n",
       "      <td>사직동</td>\n",
       "      <td>NaN</td>\n",
       "    </tr>\n",
       "    <tr>\n",
       "      <th>4</th>\n",
       "      <td>2019</td>\n",
       "      <td>1101054</td>\n",
       "      <td>1.49</td>\n",
       "      <td>4</td>\n",
       "      <td>서울특별시</td>\n",
       "      <td>종로구</td>\n",
       "      <td>삼청동</td>\n",
       "      <td>NaN</td>\n",
       "    </tr>\n",
       "  </tbody>\n",
       "</table>\n",
       "</div>"
      ],
      "text/plain": [
       "   YEAR    행정동코드    AREA  MAP_LEVEL    행정명  시군구    행정동 Unnamed: 7\n",
       "0  2019  1100000  605.24          1  서울특별시  NaN    NaN        NaN\n",
       "1  2019  1101000   23.91          5  서울특별시  종로구    NaN        NaN\n",
       "2  2019  1101072    2.57          4  서울특별시  종로구  청운효자동        NaN\n",
       "3  2019  1101053    1.23          4  서울특별시  종로구    사직동        NaN\n",
       "4  2019  1101054    1.49          4  서울특별시  종로구    삼청동        NaN"
      ]
     },
     "execution_count": 29,
     "metadata": {},
     "output_type": "execute_result"
    }
   ],
   "source": [
    "land.head()"
   ]
  },
  {
   "cell_type": "code",
   "execution_count": 34,
   "metadata": {},
   "outputs": [
    {
     "data": {
      "text/html": [
       "<div>\n",
       "<style scoped>\n",
       "    .dataframe tbody tr th:only-of-type {\n",
       "        vertical-align: middle;\n",
       "    }\n",
       "\n",
       "    .dataframe tbody tr th {\n",
       "        vertical-align: top;\n",
       "    }\n",
       "\n",
       "    .dataframe thead th {\n",
       "        text-align: right;\n",
       "    }\n",
       "</style>\n",
       "<table border=\"1\" class=\"dataframe\">\n",
       "  <thead>\n",
       "    <tr style=\"text-align: right;\">\n",
       "      <th></th>\n",
       "      <th>YEAR</th>\n",
       "      <th>행정동코드</th>\n",
       "      <th>AREA</th>\n",
       "      <th>MAP_LEVEL</th>\n",
       "      <th>행정명</th>\n",
       "      <th>시군구</th>\n",
       "      <th>행정동</th>\n",
       "      <th>Unnamed: 7</th>\n",
       "    </tr>\n",
       "  </thead>\n",
       "  <tbody>\n",
       "  </tbody>\n",
       "</table>\n",
       "</div>"
      ],
      "text/plain": [
       "Empty DataFrame\n",
       "Columns: [YEAR, 행정동코드, AREA, MAP_LEVEL, 행정명, 시군구, 행정동, Unnamed: 7]\n",
       "Index: []"
      ]
     },
     "execution_count": 34,
     "metadata": {},
     "output_type": "execute_result"
    }
   ],
   "source": [
    "land[land['행정명']=='경기도']"
   ]
  },
  {
   "cell_type": "code",
   "execution_count": 39,
   "metadata": {},
   "outputs": [
    {
     "name": "stdout",
     "output_type": "stream",
     "text": [
      "<class 'pandas.core.frame.DataFrame'>\n",
      "Int64Index: 450 entries, 0 to 449\n",
      "Data columns (total 7 columns):\n",
      " #   Column     Non-Null Count  Dtype  \n",
      "---  ------     --------------  -----  \n",
      " 0   YEAR       450 non-null    int64  \n",
      " 1   행정동코드      450 non-null    int64  \n",
      " 2   AREA       450 non-null    float64\n",
      " 3   MAP_LEVEL  450 non-null    int64  \n",
      " 4   행정명        450 non-null    object \n",
      " 5   시군구        449 non-null    object \n",
      " 6   행정동        424 non-null    object \n",
      "dtypes: float64(1), int64(3), object(3)\n",
      "memory usage: 28.1+ KB\n"
     ]
    }
   ],
   "source": [
    "# land.isnull().sum()\n",
    "# land = land.drop('Unnamed: 7', axis =1)\n",
    "land.info()"
   ]
  },
  {
   "cell_type": "code",
   "execution_count": 44,
   "metadata": {},
   "outputs": [
    {
     "data": {
      "text/plain": [
       "YEAR         0\n",
       "행정동코드        0\n",
       "AREA         0\n",
       "MAP_LEVEL    0\n",
       "행정명          0\n",
       "시군구          0\n",
       "행정동          0\n",
       "dtype: int64"
      ]
     },
     "execution_count": 44,
     "metadata": {},
     "output_type": "execute_result"
    }
   ],
   "source": [
    " \n",
    "#결측지 제거 \n",
    "land = land.dropna()\n",
    "\n",
    "land.isnull().sum()"
   ]
  },
  {
   "cell_type": "code",
   "execution_count": 45,
   "metadata": {},
   "outputs": [
    {
     "data": {
      "text/html": [
       "<div>\n",
       "<style scoped>\n",
       "    .dataframe tbody tr th:only-of-type {\n",
       "        vertical-align: middle;\n",
       "    }\n",
       "\n",
       "    .dataframe tbody tr th {\n",
       "        vertical-align: top;\n",
       "    }\n",
       "\n",
       "    .dataframe thead th {\n",
       "        text-align: right;\n",
       "    }\n",
       "</style>\n",
       "<table border=\"1\" class=\"dataframe\">\n",
       "  <thead>\n",
       "    <tr style=\"text-align: right;\">\n",
       "      <th></th>\n",
       "      <th>YEAR</th>\n",
       "      <th>행정동코드</th>\n",
       "      <th>AREA</th>\n",
       "      <th>MAP_LEVEL</th>\n",
       "      <th>행정명</th>\n",
       "      <th>시군구</th>\n",
       "      <th>행정동</th>\n",
       "    </tr>\n",
       "  </thead>\n",
       "  <tbody>\n",
       "    <tr>\n",
       "      <th>2</th>\n",
       "      <td>2019</td>\n",
       "      <td>1101072</td>\n",
       "      <td>2.57</td>\n",
       "      <td>4</td>\n",
       "      <td>서울특별시</td>\n",
       "      <td>종로구</td>\n",
       "      <td>청운효자동</td>\n",
       "    </tr>\n",
       "    <tr>\n",
       "      <th>3</th>\n",
       "      <td>2019</td>\n",
       "      <td>1101053</td>\n",
       "      <td>1.23</td>\n",
       "      <td>4</td>\n",
       "      <td>서울특별시</td>\n",
       "      <td>종로구</td>\n",
       "      <td>사직동</td>\n",
       "    </tr>\n",
       "    <tr>\n",
       "      <th>4</th>\n",
       "      <td>2019</td>\n",
       "      <td>1101054</td>\n",
       "      <td>1.49</td>\n",
       "      <td>4</td>\n",
       "      <td>서울특별시</td>\n",
       "      <td>종로구</td>\n",
       "      <td>삼청동</td>\n",
       "    </tr>\n",
       "    <tr>\n",
       "      <th>5</th>\n",
       "      <td>2019</td>\n",
       "      <td>1101055</td>\n",
       "      <td>2.27</td>\n",
       "      <td>4</td>\n",
       "      <td>서울특별시</td>\n",
       "      <td>종로구</td>\n",
       "      <td>부암동</td>\n",
       "    </tr>\n",
       "    <tr>\n",
       "      <th>6</th>\n",
       "      <td>2019</td>\n",
       "      <td>1101056</td>\n",
       "      <td>8.87</td>\n",
       "      <td>4</td>\n",
       "      <td>서울특별시</td>\n",
       "      <td>종로구</td>\n",
       "      <td>평창동</td>\n",
       "    </tr>\n",
       "  </tbody>\n",
       "</table>\n",
       "</div>"
      ],
      "text/plain": [
       "   YEAR    행정동코드  AREA  MAP_LEVEL    행정명  시군구    행정동\n",
       "2  2019  1101072  2.57          4  서울특별시  종로구  청운효자동\n",
       "3  2019  1101053  1.23          4  서울특별시  종로구    사직동\n",
       "4  2019  1101054  1.49          4  서울특별시  종로구    삼청동\n",
       "5  2019  1101055  2.27          4  서울특별시  종로구    부암동\n",
       "6  2019  1101056  8.87          4  서울특별시  종로구    평창동"
      ]
     },
     "execution_count": 45,
     "metadata": {},
     "output_type": "execute_result"
    }
   ],
   "source": [
    "land.head()"
   ]
  },
  {
   "cell_type": "code",
   "execution_count": 47,
   "metadata": {},
   "outputs": [],
   "source": [
    "land.to_csv('D:/Ella/project/seoul_면적(동별)_final.csv')"
   ]
  },
  {
   "cell_type": "code",
   "execution_count": 4,
   "metadata": {},
   "outputs": [],
   "source": [
    "import pandas as pd\n",
    "df = pd.read_csv('D:/Ella/project/seoul_면적(동별)_final.csv')\n",
    "df.to_excel('D:/Ella/project/seoul_면적(동별)_final.xlsx')"
   ]
  },
  {
   "cell_type": "code",
   "execution_count": 13,
   "metadata": {},
   "outputs": [
    {
     "data": {
      "text/html": [
       "<div>\n",
       "<style scoped>\n",
       "    .dataframe tbody tr th:only-of-type {\n",
       "        vertical-align: middle;\n",
       "    }\n",
       "\n",
       "    .dataframe tbody tr th {\n",
       "        vertical-align: top;\n",
       "    }\n",
       "\n",
       "    .dataframe thead th {\n",
       "        text-align: right;\n",
       "    }\n",
       "</style>\n",
       "<table border=\"1\" class=\"dataframe\">\n",
       "  <thead>\n",
       "    <tr style=\"text-align: right;\">\n",
       "      <th></th>\n",
       "      <th>Unnamed: 0</th>\n",
       "      <th>YEAR</th>\n",
       "      <th>행정동코드</th>\n",
       "      <th>AREA</th>\n",
       "      <th>MAP_LEVEL</th>\n",
       "      <th>행정명</th>\n",
       "      <th>시군구</th>\n",
       "      <th>행정동</th>\n",
       "    </tr>\n",
       "  </thead>\n",
       "  <tbody>\n",
       "    <tr>\n",
       "      <th>0</th>\n",
       "      <td>0</td>\n",
       "      <td>2019</td>\n",
       "      <td>1101072</td>\n",
       "      <td>2.57</td>\n",
       "      <td>4</td>\n",
       "      <td>서울특별시</td>\n",
       "      <td>종로구</td>\n",
       "      <td>청운효자동</td>\n",
       "    </tr>\n",
       "    <tr>\n",
       "      <th>1</th>\n",
       "      <td>1</td>\n",
       "      <td>2019</td>\n",
       "      <td>1101053</td>\n",
       "      <td>1.23</td>\n",
       "      <td>4</td>\n",
       "      <td>서울특별시</td>\n",
       "      <td>종로구</td>\n",
       "      <td>사직동</td>\n",
       "    </tr>\n",
       "    <tr>\n",
       "      <th>2</th>\n",
       "      <td>2</td>\n",
       "      <td>2019</td>\n",
       "      <td>1101054</td>\n",
       "      <td>1.49</td>\n",
       "      <td>4</td>\n",
       "      <td>서울특별시</td>\n",
       "      <td>종로구</td>\n",
       "      <td>삼청동</td>\n",
       "    </tr>\n",
       "    <tr>\n",
       "      <th>3</th>\n",
       "      <td>3</td>\n",
       "      <td>2019</td>\n",
       "      <td>1101055</td>\n",
       "      <td>2.27</td>\n",
       "      <td>4</td>\n",
       "      <td>서울특별시</td>\n",
       "      <td>종로구</td>\n",
       "      <td>부암동</td>\n",
       "    </tr>\n",
       "    <tr>\n",
       "      <th>4</th>\n",
       "      <td>4</td>\n",
       "      <td>2019</td>\n",
       "      <td>1101056</td>\n",
       "      <td>8.87</td>\n",
       "      <td>4</td>\n",
       "      <td>서울특별시</td>\n",
       "      <td>종로구</td>\n",
       "      <td>평창동</td>\n",
       "    </tr>\n",
       "  </tbody>\n",
       "</table>\n",
       "</div>"
      ],
      "text/plain": [
       "   Unnamed: 0  YEAR    행정동코드  AREA  MAP_LEVEL    행정명  시군구    행정동\n",
       "0           0  2019  1101072  2.57          4  서울특별시  종로구  청운효자동\n",
       "1           1  2019  1101053  1.23          4  서울특별시  종로구    사직동\n",
       "2           2  2019  1101054  1.49          4  서울특별시  종로구    삼청동\n",
       "3           3  2019  1101055  2.27          4  서울특별시  종로구    부암동\n",
       "4           4  2019  1101056  8.87          4  서울특별시  종로구    평창동"
      ]
     },
     "execution_count": 13,
     "metadata": {},
     "output_type": "execute_result"
    }
   ],
   "source": [
    "df = pd.read_excel('D:/Ella/project/seoul_면적(동별)_final.xlsx')\n",
    "df.head()"
   ]
  },
  {
   "cell_type": "code",
   "execution_count": 14,
   "metadata": {},
   "outputs": [
    {
     "data": {
      "text/html": [
       "<div>\n",
       "<style scoped>\n",
       "    .dataframe tbody tr th:only-of-type {\n",
       "        vertical-align: middle;\n",
       "    }\n",
       "\n",
       "    .dataframe tbody tr th {\n",
       "        vertical-align: top;\n",
       "    }\n",
       "\n",
       "    .dataframe thead th {\n",
       "        text-align: right;\n",
       "    }\n",
       "</style>\n",
       "<table border=\"1\" class=\"dataframe\">\n",
       "  <thead>\n",
       "    <tr style=\"text-align: right;\">\n",
       "      <th></th>\n",
       "      <th>YEAR</th>\n",
       "      <th>행정동코드</th>\n",
       "      <th>AREA</th>\n",
       "      <th>MAP_LEVEL</th>\n",
       "      <th>행정명</th>\n",
       "      <th>시군구</th>\n",
       "      <th>행정동</th>\n",
       "    </tr>\n",
       "  </thead>\n",
       "  <tbody>\n",
       "    <tr>\n",
       "      <th>0</th>\n",
       "      <td>2019</td>\n",
       "      <td>1101072</td>\n",
       "      <td>2.57</td>\n",
       "      <td>4</td>\n",
       "      <td>서울특별시</td>\n",
       "      <td>종로구</td>\n",
       "      <td>청운효자동</td>\n",
       "    </tr>\n",
       "    <tr>\n",
       "      <th>1</th>\n",
       "      <td>2019</td>\n",
       "      <td>1101053</td>\n",
       "      <td>1.23</td>\n",
       "      <td>4</td>\n",
       "      <td>서울특별시</td>\n",
       "      <td>종로구</td>\n",
       "      <td>사직동</td>\n",
       "    </tr>\n",
       "    <tr>\n",
       "      <th>2</th>\n",
       "      <td>2019</td>\n",
       "      <td>1101054</td>\n",
       "      <td>1.49</td>\n",
       "      <td>4</td>\n",
       "      <td>서울특별시</td>\n",
       "      <td>종로구</td>\n",
       "      <td>삼청동</td>\n",
       "    </tr>\n",
       "    <tr>\n",
       "      <th>3</th>\n",
       "      <td>2019</td>\n",
       "      <td>1101055</td>\n",
       "      <td>2.27</td>\n",
       "      <td>4</td>\n",
       "      <td>서울특별시</td>\n",
       "      <td>종로구</td>\n",
       "      <td>부암동</td>\n",
       "    </tr>\n",
       "    <tr>\n",
       "      <th>4</th>\n",
       "      <td>2019</td>\n",
       "      <td>1101056</td>\n",
       "      <td>8.87</td>\n",
       "      <td>4</td>\n",
       "      <td>서울특별시</td>\n",
       "      <td>종로구</td>\n",
       "      <td>평창동</td>\n",
       "    </tr>\n",
       "  </tbody>\n",
       "</table>\n",
       "</div>"
      ],
      "text/plain": [
       "   YEAR    행정동코드  AREA  MAP_LEVEL    행정명  시군구    행정동\n",
       "0  2019  1101072  2.57          4  서울특별시  종로구  청운효자동\n",
       "1  2019  1101053  1.23          4  서울특별시  종로구    사직동\n",
       "2  2019  1101054  1.49          4  서울특별시  종로구    삼청동\n",
       "3  2019  1101055  2.27          4  서울특별시  종로구    부암동\n",
       "4  2019  1101056  8.87          4  서울특별시  종로구    평창동"
      ]
     },
     "execution_count": 14,
     "metadata": {},
     "output_type": "execute_result"
    }
   ],
   "source": [
    "df = df.drop('Unnamed: 0',axis=1)\n",
    "df.head()\n"
   ]
  },
  {
   "cell_type": "code",
   "execution_count": 15,
   "metadata": {},
   "outputs": [],
   "source": [
    "df['시군구명'] = df['시군구']\n",
    "df['동명'] = df['행정동']\n"
   ]
  },
  {
   "cell_type": "code",
   "execution_count": 16,
   "metadata": {},
   "outputs": [],
   "source": [
    "#숫자가 있는 동명 변경하기 \n",
    "import re\n",
    "change_name = df['동명']\n",
    "change_dong = []\n",
    "for name in change_name:\n",
    "    first = re.compile('[0-9,·$]+').sub(\"\", name) #[0-9,·$]빼고 출력됨 \n",
    "    # re.compile('[가-힣]+').findall(text)   #['신사', '동']\n",
    "\n",
    "    change_dong.append(first)"
   ]
  },
  {
   "cell_type": "code",
   "execution_count": 17,
   "metadata": {},
   "outputs": [],
   "source": [
    "df['동명'] =change_dong"
   ]
  },
  {
   "cell_type": "code",
   "execution_count": 18,
   "metadata": {},
   "outputs": [
    {
     "data": {
      "text/html": [
       "<div>\n",
       "<style scoped>\n",
       "    .dataframe tbody tr th:only-of-type {\n",
       "        vertical-align: middle;\n",
       "    }\n",
       "\n",
       "    .dataframe tbody tr th {\n",
       "        vertical-align: top;\n",
       "    }\n",
       "\n",
       "    .dataframe thead th {\n",
       "        text-align: right;\n",
       "    }\n",
       "</style>\n",
       "<table border=\"1\" class=\"dataframe\">\n",
       "  <thead>\n",
       "    <tr style=\"text-align: right;\">\n",
       "      <th></th>\n",
       "      <th>YEAR</th>\n",
       "      <th>행정동코드</th>\n",
       "      <th>AREA</th>\n",
       "      <th>MAP_LEVEL</th>\n",
       "      <th>행정명</th>\n",
       "      <th>시군구</th>\n",
       "      <th>행정동</th>\n",
       "      <th>시군구명</th>\n",
       "      <th>동명</th>\n",
       "    </tr>\n",
       "  </thead>\n",
       "  <tbody>\n",
       "    <tr>\n",
       "      <th>0</th>\n",
       "      <td>2019</td>\n",
       "      <td>1101072</td>\n",
       "      <td>2.57</td>\n",
       "      <td>4</td>\n",
       "      <td>서울특별시</td>\n",
       "      <td>종로구</td>\n",
       "      <td>청운효자동</td>\n",
       "      <td>종로구</td>\n",
       "      <td>청운효자동</td>\n",
       "    </tr>\n",
       "    <tr>\n",
       "      <th>1</th>\n",
       "      <td>2019</td>\n",
       "      <td>1101053</td>\n",
       "      <td>1.23</td>\n",
       "      <td>4</td>\n",
       "      <td>서울특별시</td>\n",
       "      <td>종로구</td>\n",
       "      <td>사직동</td>\n",
       "      <td>종로구</td>\n",
       "      <td>사직동</td>\n",
       "    </tr>\n",
       "    <tr>\n",
       "      <th>2</th>\n",
       "      <td>2019</td>\n",
       "      <td>1101054</td>\n",
       "      <td>1.49</td>\n",
       "      <td>4</td>\n",
       "      <td>서울특별시</td>\n",
       "      <td>종로구</td>\n",
       "      <td>삼청동</td>\n",
       "      <td>종로구</td>\n",
       "      <td>삼청동</td>\n",
       "    </tr>\n",
       "    <tr>\n",
       "      <th>3</th>\n",
       "      <td>2019</td>\n",
       "      <td>1101055</td>\n",
       "      <td>2.27</td>\n",
       "      <td>4</td>\n",
       "      <td>서울특별시</td>\n",
       "      <td>종로구</td>\n",
       "      <td>부암동</td>\n",
       "      <td>종로구</td>\n",
       "      <td>부암동</td>\n",
       "    </tr>\n",
       "    <tr>\n",
       "      <th>4</th>\n",
       "      <td>2019</td>\n",
       "      <td>1101056</td>\n",
       "      <td>8.87</td>\n",
       "      <td>4</td>\n",
       "      <td>서울특별시</td>\n",
       "      <td>종로구</td>\n",
       "      <td>평창동</td>\n",
       "      <td>종로구</td>\n",
       "      <td>평창동</td>\n",
       "    </tr>\n",
       "  </tbody>\n",
       "</table>\n",
       "</div>"
      ],
      "text/plain": [
       "   YEAR    행정동코드  AREA  MAP_LEVEL    행정명  시군구    행정동 시군구명     동명\n",
       "0  2019  1101072  2.57          4  서울특별시  종로구  청운효자동  종로구  청운효자동\n",
       "1  2019  1101053  1.23          4  서울특별시  종로구    사직동  종로구    사직동\n",
       "2  2019  1101054  1.49          4  서울특별시  종로구    삼청동  종로구    삼청동\n",
       "3  2019  1101055  2.27          4  서울특별시  종로구    부암동  종로구    부암동\n",
       "4  2019  1101056  8.87          4  서울특별시  종로구    평창동  종로구    평창동"
      ]
     },
     "execution_count": 18,
     "metadata": {},
     "output_type": "execute_result"
    }
   ],
   "source": [
    "df.head()"
   ]
  },
  {
   "cell_type": "code",
   "execution_count": 19,
   "metadata": {},
   "outputs": [],
   "source": [
    "df.to_csv('D:/Ella/project/seoul_면적(동별)_홍민지_v1.0.csv', index=False)"
   ]
  },
  {
   "cell_type": "code",
   "execution_count": null,
   "metadata": {},
   "outputs": [],
   "source": [
    "# 데이터 타입변경 float -> int()\n",
    "import pandas as pd \n",
    "\n",
    "code = land['행정동코드'] \n",
    "codes = []\n",
    "for i in code:\n",
    "    int = pd.to_numeric(i)\n",
    "    codes.append(int)\n",
    "\n",
    "codes"
   ]
  },
  {
   "cell_type": "code",
   "execution_count": null,
   "metadata": {},
   "outputs": [],
   "source": []
  }
 ],
 "metadata": {
  "kernelspec": {
   "display_name": "Python 3",
   "language": "python",
   "name": "python3"
  },
  "language_info": {
   "codemirror_mode": {
    "name": "ipython",
    "version": 3
   },
   "file_extension": ".py",
   "mimetype": "text/x-python",
   "name": "python",
   "nbconvert_exporter": "python",
   "pygments_lexer": "ipython3",
   "version": "3.7.1"
  }
 },
 "nbformat": 4,
 "nbformat_minor": 5
}
